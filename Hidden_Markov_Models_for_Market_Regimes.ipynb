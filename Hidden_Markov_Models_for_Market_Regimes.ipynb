{
 "cells": [
  {
   "cell_type": "markdown",
   "id": "3aa1dd9b-0518-446d-86be-19ee16c5de77",
   "metadata": {},
   "source": [
    "# Hidden Markov Models for Identifying Market Regimes"
   ]
  },
  {
   "cell_type": "markdown",
   "id": "b4c1afb7-a36c-4281-a36c-9c3df132caef",
   "metadata": {},
   "source": [
    "Hidden Markov Models (HMMs) are well-suited for market regime detection because they can effectively model and identify unobservable market conditions that influence observable data, such as stock prices or returns. Here’s why HMMs are useful for this task:\n",
    "\n",
    "1.  Unobservable Regimes: HMMs can uncover hidden states (market regimes) that are not directly observable but significantly impact market behavior. These states could represent different market conditions like bull markets, bear markets, or high and low volatility periods.\n",
    "\n",
    "2.  Dynamic Transitions: HMMs model the probabilities of transitioning between different regimes, allowing them to capture shifts in market conditions over time. This helps in understanding how and when market states change.\n",
    "\n",
    "3.  Probabilistic Framework: By using emission probabilities, HMMs can estimate the likelihood of observing certain market data (e.g., returns) given each regime. This probabilistic approach helps in identifying the most likely market regime at any given time.\n",
    "\n",
    "4.  Data Adaptability: HMMs can adapt to changes in market dynamics by updating the model parameters based on new data, making them a flexible tool for analyzing evolving market conditions.\n",
    "\n",
    "Overall, HMMs provide a structured way to identify and analyze hidden market regimes, offering valuable insights into market behavior and helping in the development of strategies tailored to different market conditions."
   ]
  },
  {
   "cell_type": "markdown",
   "id": "b008b8f8-3aee-496b-ab05-a86fcafa9342",
   "metadata": {},
   "source": [
    "### Imports"
   ]
  },
  {
   "cell_type": "code",
   "execution_count": 1,
   "id": "c0adb162-b26b-4344-8072-89e6cf1ad5ef",
   "metadata": {},
   "outputs": [
    {
     "name": "stderr",
     "output_type": "stream",
     "text": [
      "C:\\Users\\andre\\anaconda3\\envs\\env\\Lib\\site-packages\\requests\\__init__.py:86: RequestsDependencyWarning: Unable to find acceptable character detection dependency (chardet or charset_normalizer).\n",
      "  warnings.warn(\n"
     ]
    }
   ],
   "source": [
    "# import packages\n",
    "\n",
    "# Data Management\n",
    "import pandas as pd\n",
    "import numpy as np\n",
    "import datetime\n",
    "import yfinance as yf\n",
    "\n",
    "# HMM\n",
    "from hmmlearn.hmm import GaussianHMM\n",
    "\n",
    "# Reporting\n",
    "import matplotlib.pyplot as plt\n",
    "\n",
    "# Remove unwanted warnings\n",
    "import warnings\n",
    "warnings.filterwarnings(\"ignore\", category=FutureWarning)"
   ]
  },
  {
   "cell_type": "markdown",
   "id": "03078eb4-65aa-4ce4-a87b-b49d903f02cc",
   "metadata": {},
   "source": [
    "### Data Management"
   ]
  },
  {
   "cell_type": "code",
   "execution_count": 2,
   "id": "baf120e2-cee4-4b3c-9013-63632dddae46",
   "metadata": {},
   "outputs": [
    {
     "name": "stderr",
     "output_type": "stream",
     "text": [
      "[*********************100%%**********************]  1 of 1 completed\n"
     ]
    }
   ],
   "source": [
    "# Data Extraction\n",
    "end_date = datetime.date.today()\n",
    "start_date = end_date - datetime.timedelta(days=3650)\n",
    "\n",
    "symbol = \"SPY\"\n",
    "data = yf.download(symbol, start=start_date, end=end_date)"
   ]
  },
  {
   "cell_type": "markdown",
   "id": "69991c2e-c0cd-4552-bbb4-f321926853ff",
   "metadata": {},
   "source": [
    "### Feature Engineering"
   ]
  },
  {
   "cell_type": "code",
   "execution_count": 3,
   "id": "800c442a-0b56-4bfd-9f79-18ca1b635b97",
   "metadata": {},
   "outputs": [
    {
     "data": {
      "text/html": [
       "<div>\n",
       "<style scoped>\n",
       "    .dataframe tbody tr th:only-of-type {\n",
       "        vertical-align: middle;\n",
       "    }\n",
       "\n",
       "    .dataframe tbody tr th {\n",
       "        vertical-align: top;\n",
       "    }\n",
       "\n",
       "    .dataframe thead th {\n",
       "        text-align: right;\n",
       "    }\n",
       "</style>\n",
       "<table border=\"1\" class=\"dataframe\">\n",
       "  <thead>\n",
       "    <tr style=\"text-align: right;\">\n",
       "      <th></th>\n",
       "      <th>Open</th>\n",
       "      <th>High</th>\n",
       "      <th>Low</th>\n",
       "      <th>Close</th>\n",
       "      <th>Adj Close</th>\n",
       "      <th>Volume</th>\n",
       "      <th>Returns</th>\n",
       "      <th>Range</th>\n",
       "    </tr>\n",
       "    <tr>\n",
       "      <th>Date</th>\n",
       "      <th></th>\n",
       "      <th></th>\n",
       "      <th></th>\n",
       "      <th></th>\n",
       "      <th></th>\n",
       "      <th></th>\n",
       "      <th></th>\n",
       "      <th></th>\n",
       "    </tr>\n",
       "  </thead>\n",
       "  <tbody>\n",
       "    <tr>\n",
       "      <th>2014-08-08</th>\n",
       "      <td>191.460007</td>\n",
       "      <td>193.369995</td>\n",
       "      <td>190.949997</td>\n",
       "      <td>193.240005</td>\n",
       "      <td>161.744522</td>\n",
       "      <td>117014000</td>\n",
       "      <td>0.011569</td>\n",
       "      <td>0.012673</td>\n",
       "    </tr>\n",
       "    <tr>\n",
       "      <th>2014-08-11</th>\n",
       "      <td>193.970001</td>\n",
       "      <td>194.660004</td>\n",
       "      <td>193.710007</td>\n",
       "      <td>193.800003</td>\n",
       "      <td>162.213257</td>\n",
       "      <td>74544000</td>\n",
       "      <td>0.002898</td>\n",
       "      <td>0.004904</td>\n",
       "    </tr>\n",
       "    <tr>\n",
       "      <th>2014-08-12</th>\n",
       "      <td>193.610001</td>\n",
       "      <td>194.149994</td>\n",
       "      <td>192.940002</td>\n",
       "      <td>193.529999</td>\n",
       "      <td>161.987259</td>\n",
       "      <td>73632000</td>\n",
       "      <td>-0.001393</td>\n",
       "      <td>0.006271</td>\n",
       "    </tr>\n",
       "    <tr>\n",
       "      <th>2014-08-13</th>\n",
       "      <td>194.289993</td>\n",
       "      <td>195.059998</td>\n",
       "      <td>193.960007</td>\n",
       "      <td>194.839996</td>\n",
       "      <td>163.083771</td>\n",
       "      <td>69047000</td>\n",
       "      <td>0.006769</td>\n",
       "      <td>0.005671</td>\n",
       "    </tr>\n",
       "    <tr>\n",
       "      <th>2014-08-14</th>\n",
       "      <td>195.160004</td>\n",
       "      <td>195.759995</td>\n",
       "      <td>194.979996</td>\n",
       "      <td>195.759995</td>\n",
       "      <td>163.853821</td>\n",
       "      <td>57371000</td>\n",
       "      <td>0.004722</td>\n",
       "      <td>0.004000</td>\n",
       "    </tr>\n",
       "  </tbody>\n",
       "</table>\n",
       "</div>"
      ],
      "text/plain": [
       "                  Open        High         Low       Close   Adj Close  \\\n",
       "Date                                                                     \n",
       "2014-08-08  191.460007  193.369995  190.949997  193.240005  161.744522   \n",
       "2014-08-11  193.970001  194.660004  193.710007  193.800003  162.213257   \n",
       "2014-08-12  193.610001  194.149994  192.940002  193.529999  161.987259   \n",
       "2014-08-13  194.289993  195.059998  193.960007  194.839996  163.083771   \n",
       "2014-08-14  195.160004  195.759995  194.979996  195.759995  163.853821   \n",
       "\n",
       "               Volume   Returns     Range  \n",
       "Date                                       \n",
       "2014-08-08  117014000  0.011569  0.012673  \n",
       "2014-08-11   74544000  0.002898  0.004904  \n",
       "2014-08-12   73632000 -0.001393  0.006271  \n",
       "2014-08-13   69047000  0.006769  0.005671  \n",
       "2014-08-14   57371000  0.004722  0.004000  "
      ]
     },
     "execution_count": 3,
     "metadata": {},
     "output_type": "execute_result"
    }
   ],
   "source": [
    "# Add Returns and Range\n",
    "df = data.copy()\n",
    "df[\"Returns\"] = (df[\"Adj Close\"] / df[\"Adj Close\"].shift(1)) - 1\n",
    "df[\"Range\"] = (df[\"High\"] / df[\"Low\"]) - 1\n",
    "df.dropna(inplace=True)\n",
    "df.head()"
   ]
  },
  {
   "cell_type": "code",
   "execution_count": 4,
   "id": "9b4cb3f5-15d4-41b7-9d3e-8349dde3acc2",
   "metadata": {},
   "outputs": [],
   "source": [
    "# Time Intervals\n",
    "t_steps = [1, 2]\n",
    "t_features = ['Returns', 'Range']\n",
    "for ts in t_steps:\n",
    "    for tf in t_features:\n",
    "        df[f'{tf}_T{ts}'] = df[tf].shift(ts)"
   ]
  },
  {
   "cell_type": "code",
   "execution_count": 5,
   "id": "ff96e77c-2408-414f-a223-d18599136b51",
   "metadata": {},
   "outputs": [
    {
     "name": "stdout",
     "output_type": "stream",
     "text": [
      "                  Open        High         Low       Close   Adj Close  \\\n",
      "Date                                                                     \n",
      "2024-07-29  546.020020  547.049988  542.719971  544.760010  544.760010   \n",
      "2024-07-30  546.260010  547.340027  538.520020  542.000000  542.000000   \n",
      "2024-07-31  548.979980  553.500000  547.580017  550.809998  550.809998   \n",
      "2024-08-01  552.570007  554.869995  539.429993  543.010010  543.010010   \n",
      "2024-08-02  535.750000  536.989990  528.599976  532.900024  532.900024   \n",
      "\n",
      "              Volume   Returns     Range  Returns_T1  Range_T1  Returns_T2  \\\n",
      "Date                                                                         \n",
      "2024-07-29  39515800  0.000588  0.007978    0.011200  0.010527   -0.005210   \n",
      "2024-07-30  46853600 -0.005066  0.016378    0.000588  0.007978    0.011200   \n",
      "2024-07-31  65663400  0.016255  0.010811   -0.005066  0.016378    0.000588   \n",
      "2024-08-01  76428700 -0.014161  0.028623    0.016255  0.010811   -0.005066   \n",
      "2024-08-02  82641600 -0.018618  0.015872   -0.014161  0.028623    0.016255   \n",
      "\n",
      "            Range_T2  \n",
      "Date                  \n",
      "2024-07-29  0.018625  \n",
      "2024-07-30  0.010527  \n",
      "2024-07-31  0.007978  \n",
      "2024-08-01  0.016378  \n",
      "2024-08-02  0.010811  \n"
     ]
    }
   ],
   "source": [
    "df.dropna(inplace=True)\n",
    "print(df.tail())"
   ]
  },
  {
   "cell_type": "code",
   "execution_count": 6,
   "id": "9eaf5424-6215-4e0f-8275-f1928cf3f1a6",
   "metadata": {},
   "outputs": [
    {
     "data": {
      "text/html": [
       "<div>\n",
       "<style scoped>\n",
       "    .dataframe tbody tr th:only-of-type {\n",
       "        vertical-align: middle;\n",
       "    }\n",
       "\n",
       "    .dataframe tbody tr th {\n",
       "        vertical-align: top;\n",
       "    }\n",
       "\n",
       "    .dataframe thead th {\n",
       "        text-align: right;\n",
       "    }\n",
       "</style>\n",
       "<table border=\"1\" class=\"dataframe\">\n",
       "  <thead>\n",
       "    <tr style=\"text-align: right;\">\n",
       "      <th></th>\n",
       "      <th>Returns</th>\n",
       "      <th>Range</th>\n",
       "      <th>Returns_T1</th>\n",
       "      <th>Range_T1</th>\n",
       "    </tr>\n",
       "    <tr>\n",
       "      <th>Date</th>\n",
       "      <th></th>\n",
       "      <th></th>\n",
       "      <th></th>\n",
       "      <th></th>\n",
       "    </tr>\n",
       "  </thead>\n",
       "  <tbody>\n",
       "    <tr>\n",
       "      <th>2014-08-12</th>\n",
       "      <td>-0.001393</td>\n",
       "      <td>0.006271</td>\n",
       "      <td>0.002898</td>\n",
       "      <td>0.004904</td>\n",
       "    </tr>\n",
       "    <tr>\n",
       "      <th>2014-08-13</th>\n",
       "      <td>0.006769</td>\n",
       "      <td>0.005671</td>\n",
       "      <td>-0.001393</td>\n",
       "      <td>0.006271</td>\n",
       "    </tr>\n",
       "    <tr>\n",
       "      <th>2014-08-14</th>\n",
       "      <td>0.004722</td>\n",
       "      <td>0.004000</td>\n",
       "      <td>0.006769</td>\n",
       "      <td>0.005671</td>\n",
       "    </tr>\n",
       "    <tr>\n",
       "      <th>2014-08-15</th>\n",
       "      <td>-0.000205</td>\n",
       "      <td>0.012043</td>\n",
       "      <td>0.004722</td>\n",
       "      <td>0.004000</td>\n",
       "    </tr>\n",
       "    <tr>\n",
       "      <th>2014-08-18</th>\n",
       "      <td>0.008379</td>\n",
       "      <td>0.003864</td>\n",
       "      <td>-0.000205</td>\n",
       "      <td>0.012043</td>\n",
       "    </tr>\n",
       "  </tbody>\n",
       "</table>\n",
       "</div>"
      ],
      "text/plain": [
       "             Returns     Range  Returns_T1  Range_T1\n",
       "Date                                                \n",
       "2014-08-12 -0.001393  0.006271    0.002898  0.004904\n",
       "2014-08-13  0.006769  0.005671   -0.001393  0.006271\n",
       "2014-08-14  0.004722  0.004000    0.006769  0.005671\n",
       "2014-08-15 -0.000205  0.012043    0.004722  0.004000\n",
       "2014-08-18  0.008379  0.003864   -0.000205  0.012043"
      ]
     },
     "execution_count": 6,
     "metadata": {},
     "output_type": "execute_result"
    }
   ],
   "source": [
    "# Structure Data\n",
    "X_train = df[[\"Returns\", \"Range\", \"Returns_T1\", \"Range_T1\"]]\n",
    "X_train.head()"
   ]
  },
  {
   "cell_type": "markdown",
   "id": "aec90cb8-aa49-4d84-b2c4-bcbc7133b3aa",
   "metadata": {},
   "source": [
    "### HMM Model"
   ]
  },
  {
   "cell_type": "code",
   "execution_count": 7,
   "id": "a618fb61-8b9c-4b38-86b4-d76c7a7b6ce8",
   "metadata": {},
   "outputs": [
    {
     "name": "stdout",
     "output_type": "stream",
     "text": [
      "Model Score: 37317.87105936386\n"
     ]
    }
   ],
   "source": [
    "# Train Model\n",
    "hmm_model = GaussianHMM(n_components=4, covariance_type=\"full\", n_iter=1000, random_state=0).fit(X_train)\n",
    "print(\"Model Score:\", hmm_model.score(X_train))"
   ]
  },
  {
   "cell_type": "code",
   "execution_count": 8,
   "id": "c8cc46a8-91c2-4ed1-aa24-5251bb6c8071",
   "metadata": {},
   "outputs": [
    {
     "name": "stdout",
     "output_type": "stream",
     "text": [
      "[0 0 0 0 0 0 0 0 0 0]\n"
     ]
    }
   ],
   "source": [
    "hidden_states = hmm_model.predict(X_train)\n",
    "print(hidden_states[:10])"
   ]
  },
  {
   "cell_type": "code",
   "execution_count": 9,
   "id": "9de8e409-7244-4009-95ac-153f0dc65237",
   "metadata": {},
   "outputs": [
    {
     "name": "stdout",
     "output_type": "stream",
     "text": [
      "Regime state means: [[ 0.00194017  0.00664579  0.00222869  0.00683315]\n",
      " [-0.00449881  0.01694021  0.00176663  0.01036692]\n",
      " [ 0.00270289  0.01204782 -0.00223158  0.01664166]\n",
      " [-0.00495611  0.03149525 -0.00639946  0.0311806 ]]\n"
     ]
    }
   ],
   "source": [
    "# Regime state means for each feature\n",
    "print(\"Regime state means:\", hmm_model.means_)"
   ]
  },
  {
   "cell_type": "code",
   "execution_count": 10,
   "id": "c9d230dd-b360-4a96-ab5c-6ba9919c0746",
   "metadata": {},
   "outputs": [
    {
     "name": "stdout",
     "output_type": "stream",
     "text": [
      "Regime state covars: [[[ 3.06107465e-05  1.11141626e-05  7.00808258e-06  9.82730909e-06]\n",
      "  [ 1.11141626e-05  1.42809565e-05  7.16311080e-06  9.85105761e-06]\n",
      "  [ 7.00808258e-06  7.16311080e-06  3.17461384e-05  1.19884696e-05]\n",
      "  [ 9.82730909e-06  9.85105761e-06  1.19884696e-05  1.50298684e-05]]\n",
      "\n",
      " [[ 1.73314195e-04  2.31732671e-05  2.39562274e-05  3.22108280e-05]\n",
      "  [ 2.31732671e-05  5.47775455e-05  2.47020969e-05  3.60428952e-05]\n",
      "  [ 2.39562274e-05  2.47020969e-05  8.84490879e-05  3.09366489e-05]\n",
      "  [ 3.22108280e-05  3.60428952e-05  3.09366489e-05  4.14671298e-05]]\n",
      "\n",
      " [[ 1.02326238e-04  2.46742157e-05  1.66278839e-05  2.66198340e-05]\n",
      "  [ 2.46742157e-05  3.79685256e-05  1.12609622e-05  3.01864289e-05]\n",
      "  [ 1.66278839e-05  1.12609622e-05  1.78883805e-04  2.17341469e-05]\n",
      "  [ 2.66198340e-05  3.01864289e-05  2.17341469e-05  4.73128488e-05]]\n",
      "\n",
      " [[ 8.37140860e-04  3.43683323e-05 -1.58179815e-04  1.15611048e-04]\n",
      "  [ 3.43683323e-05  2.90486817e-04  2.65506716e-05  1.58328186e-04]\n",
      "  [-1.58179815e-04  2.65506716e-05  8.10639707e-04  4.22687833e-05]\n",
      "  [ 1.15611048e-04  1.58328186e-04  4.22687833e-05  2.99312825e-04]]]\n"
     ]
    }
   ],
   "source": [
    "# Regime state covars for each feature\n",
    "print(\"Regime state covars:\", hmm_model.covars_)"
   ]
  },
  {
   "cell_type": "markdown",
   "id": "730cb907-9209-41e2-ad00-8ac019c5b4c0",
   "metadata": {},
   "source": [
    "### Data Visualization"
   ]
  },
  {
   "cell_type": "code",
   "execution_count": 11,
   "id": "bd8af4f7-558f-4971-893f-06d75b271887",
   "metadata": {},
   "outputs": [
    {
     "name": "stdout",
     "output_type": "stream",
     "text": [
      "Correct number of rows:  True\n"
     ]
    }
   ],
   "source": [
    "# Structure the prices for plotting\n",
    "i = 0\n",
    "labels_0 = []\n",
    "labels_1 = []\n",
    "labels_2 = []\n",
    "labels_3 = []\n",
    "prices = df[\"Adj Close\"].values.astype(float)\n",
    "print(\"Correct number of rows: \", len(prices) == len(hidden_states))\n",
    "for s in hidden_states:\n",
    "    if s == 0:\n",
    "        labels_0.append(prices[i])\n",
    "        labels_1.append(float('nan'))\n",
    "        labels_2.append(float('nan'))\n",
    "        labels_3.append(float('nan'))\n",
    "    if s == 1:\n",
    "        labels_0.append(float('nan'))\n",
    "        labels_1.append(prices[i])\n",
    "        labels_2.append(float('nan'))\n",
    "        labels_3.append(float('nan'))\n",
    "    if s == 2:\n",
    "        labels_0.append(float('nan'))\n",
    "        labels_1.append(float('nan'))\n",
    "        labels_2.append(prices[i])\n",
    "        labels_3.append(float('nan'))\n",
    "    if s == 3:\n",
    "        labels_0.append(float('nan'))\n",
    "        labels_1.append(float('nan'))\n",
    "        labels_2.append(float('nan'))\n",
    "        labels_3.append(prices[i])\n",
    "    i += 1"
   ]
  },
  {
   "cell_type": "code",
   "execution_count": 16,
   "id": "4784c45b-35d8-4190-a812-69b9cdee4445",
   "metadata": {},
   "outputs": [
    {
     "data": {
      "image/png": "[encoded data removed]",
      "text/plain": [
       "<Figure size 1800x800 with 1 Axes>"
      ]
     },
     "metadata": {},
     "output_type": "display_data"
    }
   ],
   "source": [
    "# Plot Chart\n",
    "fig = plt.figure(figsize= (18, 8))\n",
    "plt.plot(labels_0, color=\"green\", linewidth=3, label=\"Buy\")\n",
    "plt.plot(labels_1, color=\"black\", linewidth=3, label=\"Caution\")\n",
    "plt.plot(labels_2, color=\"yellow\", linewidth=3, label=\"Caution\")\n",
    "plt.plot(labels_3, color=\"red\", linewidth=3, label=\"Sell\")\n",
    "\n",
    "# Add title using f-string\n",
    "plt.title(f\"Hidden Markov Model Regimes for {symbol}\")\n",
    "\n",
    "# Optionally, add a legend to identify each line\n",
    "plt.legend()\n",
    "plt.show()"
   ]
  },
  {
   "cell_type": "markdown",
   "id": "b5ff04be-ebe8-4bb0-9d09-484393615b79",
   "metadata": {},
   "source": [
    "Regime Shifts:\n",
    "\n",
    "The HMM captures multiple regime shifts over time. The transitions between green, yellow, and red indicate changes in the underlying market conditions.\n",
    "The model appears to identify periods of market stress (e.g., during market downturns) by switching to a red \"Sell\" regime. These periods are often followed by cautionary yellow phases before returning to a green \"Buy\" regime.\n",
    "\n",
    "Trend Detection:\n",
    "\n",
    "The HMM seems to effectively capture the overall bullish trend in the SPY, as indicated by the predominance of green \"Buy\" signals during uptrends.\n",
    "However, there are frequent yellow and red regime shifts, which might reflect short-term market fluctuations or noise rather than significant regime changes.\n",
    "\n",
    "Overfitting/Noise Sensitivity:\n",
    "\n",
    "There appears to be some degree of sensitivity to market noise, as indicated by the relatively frequent shifts between yellow, red, and green regimes. This might suggest that the HMM is reacting to short-term market volatility rather than genuine regime changes."
   ]
  },
  {
   "cell_type": "markdown",
   "id": "b5f66b57-2e54-4f1f-8ae8-6a1a9f78e90b",
   "metadata": {},
   "source": [
    "Suggestions for Improving HMM to Better Detect Market Regimes:\n",
    "Increase the Number of States:\n",
    "\n",
    "Currently, the HMM uses four states (Buy, Caution, Sell). Increasing the number of states could allow the model to better distinguish between different types of market environments (e.g., high volatility uptrends, low volatility downtrends).\n",
    "\n",
    "Feature Engineering:\n",
    "\n",
    "Incorporate additional features that capture broader market conditions (e.g., volatility measures like the VIX, interest rates, or macroeconomic indicators) to improve the model's ability to distinguish between regimes.\n",
    "Use technical indicators such as moving averages, RSI, or MACD as inputs to help the HMM better capture market momentum or reversal signals.\n",
    "\n",
    "Adjust the Observation Model:\n",
    "\n",
    "Experiment with different types of observation distributions within the HMM. For instance, using a Gaussian mixture model (GMM) or a t-distribution could help the model better capture fat tails and skewness in market returns.\n",
    "\n",
    "Smoothing Techniques:\n",
    "\n",
    "Apply smoothing techniques to the HMM predictions to reduce the sensitivity to short-term noise. For instance, using a longer look-back period for the HMM or applying a moving average to the predicted states could help stabilize the regime detection.\n",
    "\n",
    "Regime Duration Modeling:\n",
    "\n",
    "Introduce a duration modeling component where the HMM takes into account the typical duration of a regime. This can prevent the model from switching states too quickly based on short-term fluctuations.\n",
    "\n",
    "Regularization:\n",
    "\n",
    "Regularize the model to prevent overfitting to short-term noise. Techniques such as Bayesian HMMs or adding a penalty for rapid regime switching might help stabilize the regime predictions.\n",
    "\n",
    "Out-of-Sample Validation:\n",
    "\n",
    "Conduct out-of-sample validation to ensure that the HMM generalizes well to new data. If the model frequently overfits to the in-sample data, it might not perform well in real-time predictions."
   ]
  },
  {
   "cell_type": "code",
   "execution_count": null,
   "id": "9c0af74a-83fc-479d-9478-7b6d0bcf7b4e",
   "metadata": {},
   "outputs": [],
   "source": []
  }
 ],
 "metadata": {
  "kernelspec": {
   "display_name": "Python 3 (ipykernel)",
   "language": "python",
   "name": "python3"
  },
  "language_info": {
   "codemirror_mode": {
    "name": "ipython",
    "version": 3
   },
   "file_extension": ".py",
   "mimetype": "text/x-python",
   "name": "python",
   "nbconvert_exporter": "python",
   "pygments_lexer": "ipython3",
   "version": "3.12.4"
  }
 },
 "nbformat": 4,
 "nbformat_minor": 5
}
